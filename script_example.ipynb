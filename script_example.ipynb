{
 "cells": [
  {
   "cell_type": "code",
   "execution_count": 1,
   "metadata": {},
   "outputs": [],
   "source": [
    "import json\n",
    "from os import listdir\n",
    "from transfrom_scan import TransformNmapScan\n",
    "\n",
    "TRANSFORM = TransformNmapScan()"
   ]
  },
  {
   "cell_type": "markdown",
   "metadata": {},
   "source": [
    "# Transform sl result scan"
   ]
  },
  {
   "cell_type": "code",
   "execution_count": 2,
   "metadata": {},
   "outputs": [],
   "source": [
    "sl_files = [file for file in listdir('lab_scan_result') if 'sl' in file]"
   ]
  },
  {
   "cell_type": "code",
   "execution_count": 9,
   "metadata": {},
   "outputs": [],
   "source": [
    "for sl_name in sl_files:\n",
    "    with open(f\"lab_scan_result/{sl_name}\") as f:\n",
    "        sl_res = f.read()\n",
    "    sl_transform = TRANSFORM.transform_sl(sl_string=sl_res)\n",
    "    file_name = sl_name.split('.')[0] + '.json'\n",
    "    with open(f'trasnform_sl/{file_name}', 'w') as f:\n",
    "        json.dump(sl_transform, f)"
   ]
  },
  {
   "cell_type": "markdown",
   "metadata": {},
   "source": [
    "# Transform sn result scan"
   ]
  },
  {
   "cell_type": "code",
   "execution_count": 5,
   "metadata": {},
   "outputs": [],
   "source": [
    "sn_path = 'lab_scan_result/skan_sN_112_0_24.txt'\n",
    "\n",
    "with open(sn_path, 'r') as f:\n",
    "    sn_res = f.read()\n",
    "\n",
    "sn_trasform = TRANSFORM.transform_sn(sn_res)\n",
    "\n",
    "with open('transform_sn/skan_sN_112_0_24.json', 'w') as f:\n",
    "    json.dump(sn_trasform, f)"
   ]
  },
  {
   "cell_type": "markdown",
   "metadata": {},
   "source": [
    "# Transform ss result scan"
   ]
  },
  {
   "cell_type": "code",
   "execution_count": 15,
   "metadata": {},
   "outputs": [],
   "source": [
    "ss_path = 'lab_scan_result/test_cer_sS.txt'\n",
    "\n",
    "with open(ss_path, 'r') as f:\n",
    "    ss_res = f.read()\n",
    "\n",
    "ss_transfrom = TRANSFORM.transform_ss(ss_res)\n",
    "\n",
    "with open('trasnfrom_ss/test_cer_sS.json', 'w') as f:\n",
    "    json.dump(ss_transfrom, f)"
   ]
  },
  {
   "cell_type": "code",
   "execution_count": 2,
   "metadata": {},
   "outputs": [],
   "source": [
    "from nmap_scan import NmapScan\n",
    "\n",
    "SCAN = NmapScan()"
   ]
  },
  {
   "cell_type": "markdown",
   "metadata": {},
   "source": [
    "# Realize sl scan for home network"
   ]
  },
  {
   "cell_type": "code",
   "execution_count": 6,
   "metadata": {},
   "outputs": [],
   "source": [
    "sl_result = SCAN.nmap_sl_scan('192.168.0/24')\n",
    "\n",
    "with open('sl_scan_result/192_168_0_24.json', 'w') as f:\n",
    "    json.dump(sl_result, f)"
   ]
  },
  {
   "cell_type": "markdown",
   "metadata": {},
   "source": [
    "# Realize sn scan for home network"
   ]
  },
  {
   "cell_type": "code",
   "execution_count": 7,
   "metadata": {},
   "outputs": [],
   "source": [
    "sn_result = SCAN.nmap_sn_scan('192.168.0/24')\n",
    "\n",
    "with open('sn_scan_result/192_168_0_24_sn.json', 'w') as f:\n",
    "    json.dump(sn_result, f)"
   ]
  },
  {
   "cell_type": "markdown",
   "metadata": {},
   "source": [
    "# Realize ss scan for home network"
   ]
  },
  {
   "cell_type": "code",
   "execution_count": 3,
   "metadata": {},
   "outputs": [
    {
     "name": "stderr",
     "output_type": "stream",
     "text": [
      "[sudo] пароль для uladzimir: "
     ]
    }
   ],
   "source": [
    "ss_result = SCAN.nmap_ss_scan('192.168.0/24', '')\n",
    "\n",
    "with open('ss_scan_result/192_168_0_24_ss.json', 'w') as f:\n",
    "    json.dump(ss_result, f)"
   ]
  }
 ],
 "metadata": {
  "kernelspec": {
   "display_name": "Python 3 (ipykernel)",
   "language": "python",
   "name": "python3"
  },
  "language_info": {
   "codemirror_mode": {
    "name": "ipython",
    "version": 3
   },
   "file_extension": ".py",
   "mimetype": "text/x-python",
   "name": "python",
   "nbconvert_exporter": "python",
   "pygments_lexer": "ipython3",
   "version": "3.10.6"
  },
  "vscode": {
   "interpreter": {
    "hash": "008012bd91b9fc3b606933cdf78c3fbf85d10e92a3bbf9265bda6ed5ec123a63"
   }
  }
 },
 "nbformat": 4,
 "nbformat_minor": 2
}
